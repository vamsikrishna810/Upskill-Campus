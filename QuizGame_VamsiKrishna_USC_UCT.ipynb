{
 "cells": [
  {
   "cell_type": "code",
   "execution_count": null,
   "metadata": {},
   "outputs": [],
   "source": [
    "import sqlite3\n",
    "# Connect to the SQLite database\n",
    "conn = sqlite3.connect('quiz.db')\n",
    "cursor = conn.cursor()\n",
    "# Create the \"questions\" table\n",
    "cursor.execute('''\n",
    "    CREATE TABLE IF NOT EXISTS questions (\n",
    "        id INTEGER PRIMARY KEY AUTOINCREMENT,\n",
    "        question TEXT,\n",
    "        option_a TEXT,\n",
    "        option_b TEXT,\n",
    "        option_c TEXT,\n",
    "        option_d TEXT,\n",
    "        answer TEXT\n",
    "    )\n",
    "''')"
   ]
  },
  {
   "cell_type": "code",
   "execution_count": null,
   "metadata": {},
   "outputs": [],
   "source": [
    "# Insert questions into the table\n",
    "question_data = [\n",
    "    ('What is the capital of France?', 'Paris', 'Rome', 'Berlin', 'Madrid', 'A'),\n",
    "    ('Which planet is known as the Red Planet?', 'Venus', 'Mars', 'Jupiter', 'Saturn', 'B'),\n",
    "    ('Who painted the Mona Lisa?', 'Leonardo da Vinci', 'Pablo Picasso', 'Vincent van Gogh', 'Michelangelo', 'A'),\n",
    "    ('What is the chemical symbol for gold?', 'Ag', 'Fe', 'Au', 'Hg', 'C'),\n",
    "    ('Which country is home to the kangaroo?', 'Australia', 'Canada', 'Brazil', 'South Africa', 'A'),\n",
    "    ('Who wrote the play \"Romeo and Juliet\"?', 'William Shakespeare', 'George Orwell', 'Jane Austen', 'Charles Dickens', 'A'),\n",
    "    ('What is the largest ocean in the world?', 'Atlantic Ocean', 'Arctic Ocean', 'Indian Ocean', 'Pacific Ocean', 'D'),\n",
    "    ('In which year did World War II end?', '1939', '1945', '1942', '1950', 'B'),\n",
    "    ('What is the tallest mountain in the world?', 'Kilimanjaro', 'Everest', 'K2', 'Matterhorn', 'B'),\n",
    "    ('Who is the CEO of Tesla?', 'Bill Gates', 'Elon Musk', 'Jeff Bezos', 'Mark Zuckerberg', 'B'),\n",
    "    ('What is the capital of Andhra Pradesh?','Amaravathi','Vizag','Kurnool','All the above','D')\n",
    "]"
   ]
  },
  {
   "cell_type": "code",
   "execution_count": null,
   "metadata": {},
   "outputs": [],
   "source": [
    "# Insert the questions into the table\n",
    "cursor.executemany('''\n",
    "    INSERT INTO questions (question, option_a, option_b, option_c, option_d, answer)\n",
    "    VALUES (?, ?, ?, ?, ?, ?)\n",
    "''', question_data)"
   ]
  },
  {
   "cell_type": "code",
   "execution_count": null,
   "metadata": {},
   "outputs": [],
   "source": [
    "# Commit the changes and close the connection\n",
    "conn.commit()\n",
    "conn.close()"
   ]
  },
  {
   "cell_type": "code",
   "execution_count": null,
   "metadata": {},
   "outputs": [],
   "source": [
    "import sqlite3\n",
    "import random\n",
    "\n",
    "# Connect to the SQLite database\n",
    "conn = sqlite3.connect('quiz.db')\n",
    "cursor = conn.cursor()"
   ]
  },
  {
   "cell_type": "code",
   "execution_count": null,
   "metadata": {},
   "outputs": [],
   "source": [
    "def retrieve_question():\n",
    "    # Retrieve a random question from the database\n",
    "    cursor.execute(\"SELECT * FROM questions ORDER BY RANDOM() LIMIT 1\")\n",
    "    question = cursor.fetchone()\n",
    "    return question\n",
    "\n",
    "def display_question(question):\n",
    "    # Display the question and options\n",
    "    print(question[1])  # Assuming the question is stored in the second column\n",
    "    print(\"A. \" + question[2])  # Assuming options are stored in the third to sixth columns\n",
    "    print(\"B. \" + question[3])\n",
    "    print(\"C. \" + question[4])\n",
    "    print(\"D. \" + question[5])\n",
    "\n",
    "def check_answer(question, user_answer):\n",
    "    # Compare the user's answer with the correct answer\n",
    "    if user_answer.upper() == question[6]:\n",
    "        print(\"Correct!\")\n",
    "        return True\n",
    "    else:\n",
    "        print(\"Incorrect!\")\n",
    "        print(\"The correct answer is:\", question[6])\n",
    "        return False\n",
    "\n",
    "def play_game():\n",
    "    score = 0\n",
    "    num_questions = 5  # Number of questions to be asked\n",
    "\n",
    "    for _ in range(num_questions):\n",
    "        question = retrieve_question()\n",
    "        display_question(question)\n",
    "        user_answer = input(\"Your answer (A/B/C/D): \")\n",
    "        if check_answer(question, user_answer):\n",
    "            score += 1\n",
    "        print()  # Empty line for readability\n",
    "\n",
    "    print(\"Game Over!\")\n",
    "    print(\"Your final score is:\", score)\n",
    "\n",
    "    play_again = input(\"Do you want to play again? (yes/no): \")\n",
    "    if play_again.lower() == \"yes\":\n",
    "        play_game()\n",
    "    else:\n",
    "        print(\"Thank you for playing!\")"
   ]
  },
  {
   "cell_type": "code",
   "execution_count": null,
   "metadata": {},
   "outputs": [],
   "source": [
    "# Start the game\n",
    "play_game()\n",
    "# Close the database connection\n",
    "conn.close()"
   ]
  }
 ],
 "metadata": {
  "language_info": {
   "name": "python"
  },
  "orig_nbformat": 4
 },
 "nbformat": 4,
 "nbformat_minor": 2
}
